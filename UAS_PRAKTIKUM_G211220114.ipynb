{
  "nbformat": 4,
  "nbformat_minor": 0,
  "metadata": {
    "colab": {
      "provenance": []
    },
    "kernelspec": {
      "name": "python3",
      "display_name": "Python 3"
    },
    "language_info": {
      "name": "python"
    }
  },
  "cells": [
    {
      "cell_type": "markdown",
      "source": [
        "NAUFAL HANIF ATHALLAH G.211.22.0114"
      ],
      "metadata": {
        "id": "NYfW49HwvEvQ"
      }
    },
    {
      "cell_type": "code",
      "execution_count": 1,
      "metadata": {
        "id": "D0q3EVNA6RgG"
      },
      "outputs": [],
      "source": [
        "import numpy as np\n",
        "import pandas as pd\n",
        "import matplotlib.pyplot as plt\n",
        "import seaborn as sns\n",
        "%matplotlib inline\n"
      ]
    },
    {
      "cell_type": "code",
      "source": [
        "df = pd.read_csv('/content/stock.csv')\n",
        "df.head()"
      ],
      "metadata": {
        "colab": {
          "base_uri": "https://localhost:8080/",
          "height": 206
        },
        "id": "ZojnfI6wDnDG",
        "outputId": "cebe5f9a-9ac2-428d-9595-1fb5d4399d17"
      },
      "execution_count": 2,
      "outputs": [
        {
          "output_type": "execute_result",
          "data": {
            "text/plain": [
              "                   Stock Name Symbol  Shares Purchase Price    Cost Basis  \\\n",
              "0                       Apple   AAPL   100.0        $90.00     $9,000.00    \n",
              "1                   Microsoft   MSFT   200.0        $32.00     $6,400.00    \n",
              "2                   Salesfoft    CRM   150.0        $25.00     $3,750.00    \n",
              "3                      Oracle   ORCL   250.0        $50.00    $12,500.00    \n",
              "4  Hewlett Packard Enterprise    HPE   500.0        $18.00     $9,000.00    \n",
              "\n",
              "  Current Price  Market Value     Gain/Loss Dividend/share Annual Yield  \n",
              "0      $144.13    $14,413.27    $14,269.14          $2.28          158%  \n",
              "1       $65.57    $13,114.14    $13,048.57          $1.56          238%  \n",
              "2       $82.57    $12,385.50    $12,302.93           $-           0.00%  \n",
              "3       $44.56    $11,138.75    $11,095.20          $0.64          144%  \n",
              "4       $17.69     $8,542.50     $8,824.82          $0.26          147%  "
            ],
            "text/html": [
              "\n",
              "  <div id=\"df-d6311f0b-332d-4d26-b177-de0e8ea01ad8\">\n",
              "    <div class=\"colab-df-container\">\n",
              "      <div>\n",
              "<style scoped>\n",
              "    .dataframe tbody tr th:only-of-type {\n",
              "        vertical-align: middle;\n",
              "    }\n",
              "\n",
              "    .dataframe tbody tr th {\n",
              "        vertical-align: top;\n",
              "    }\n",
              "\n",
              "    .dataframe thead th {\n",
              "        text-align: right;\n",
              "    }\n",
              "</style>\n",
              "<table border=\"1\" class=\"dataframe\">\n",
              "  <thead>\n",
              "    <tr style=\"text-align: right;\">\n",
              "      <th></th>\n",
              "      <th>Stock Name</th>\n",
              "      <th>Symbol</th>\n",
              "      <th>Shares</th>\n",
              "      <th>Purchase Price</th>\n",
              "      <th>Cost Basis</th>\n",
              "      <th>Current Price</th>\n",
              "      <th>Market Value</th>\n",
              "      <th>Gain/Loss</th>\n",
              "      <th>Dividend/share</th>\n",
              "      <th>Annual Yield</th>\n",
              "    </tr>\n",
              "  </thead>\n",
              "  <tbody>\n",
              "    <tr>\n",
              "      <th>0</th>\n",
              "      <td>Apple</td>\n",
              "      <td>AAPL</td>\n",
              "      <td>100.0</td>\n",
              "      <td>$90.00</td>\n",
              "      <td>$9,000.00</td>\n",
              "      <td>$144.13</td>\n",
              "      <td>$14,413.27</td>\n",
              "      <td>$14,269.14</td>\n",
              "      <td>$2.28</td>\n",
              "      <td>158%</td>\n",
              "    </tr>\n",
              "    <tr>\n",
              "      <th>1</th>\n",
              "      <td>Microsoft</td>\n",
              "      <td>MSFT</td>\n",
              "      <td>200.0</td>\n",
              "      <td>$32.00</td>\n",
              "      <td>$6,400.00</td>\n",
              "      <td>$65.57</td>\n",
              "      <td>$13,114.14</td>\n",
              "      <td>$13,048.57</td>\n",
              "      <td>$1.56</td>\n",
              "      <td>238%</td>\n",
              "    </tr>\n",
              "    <tr>\n",
              "      <th>2</th>\n",
              "      <td>Salesfoft</td>\n",
              "      <td>CRM</td>\n",
              "      <td>150.0</td>\n",
              "      <td>$25.00</td>\n",
              "      <td>$3,750.00</td>\n",
              "      <td>$82.57</td>\n",
              "      <td>$12,385.50</td>\n",
              "      <td>$12,302.93</td>\n",
              "      <td>$-</td>\n",
              "      <td>0.00%</td>\n",
              "    </tr>\n",
              "    <tr>\n",
              "      <th>3</th>\n",
              "      <td>Oracle</td>\n",
              "      <td>ORCL</td>\n",
              "      <td>250.0</td>\n",
              "      <td>$50.00</td>\n",
              "      <td>$12,500.00</td>\n",
              "      <td>$44.56</td>\n",
              "      <td>$11,138.75</td>\n",
              "      <td>$11,095.20</td>\n",
              "      <td>$0.64</td>\n",
              "      <td>144%</td>\n",
              "    </tr>\n",
              "    <tr>\n",
              "      <th>4</th>\n",
              "      <td>Hewlett Packard Enterprise</td>\n",
              "      <td>HPE</td>\n",
              "      <td>500.0</td>\n",
              "      <td>$18.00</td>\n",
              "      <td>$9,000.00</td>\n",
              "      <td>$17.69</td>\n",
              "      <td>$8,542.50</td>\n",
              "      <td>$8,824.82</td>\n",
              "      <td>$0.26</td>\n",
              "      <td>147%</td>\n",
              "    </tr>\n",
              "  </tbody>\n",
              "</table>\n",
              "</div>\n",
              "      <button class=\"colab-df-convert\" onclick=\"convertToInteractive('df-d6311f0b-332d-4d26-b177-de0e8ea01ad8')\"\n",
              "              title=\"Convert this dataframe to an interactive table.\"\n",
              "              style=\"display:none;\">\n",
              "        \n",
              "  <svg xmlns=\"http://www.w3.org/2000/svg\" height=\"24px\"viewBox=\"0 0 24 24\"\n",
              "       width=\"24px\">\n",
              "    <path d=\"M0 0h24v24H0V0z\" fill=\"none\"/>\n",
              "    <path d=\"M18.56 5.44l.94 2.06.94-2.06 2.06-.94-2.06-.94-.94-2.06-.94 2.06-2.06.94zm-11 1L8.5 8.5l.94-2.06 2.06-.94-2.06-.94L8.5 2.5l-.94 2.06-2.06.94zm10 10l.94 2.06.94-2.06 2.06-.94-2.06-.94-.94-2.06-.94 2.06-2.06.94z\"/><path d=\"M17.41 7.96l-1.37-1.37c-.4-.4-.92-.59-1.43-.59-.52 0-1.04.2-1.43.59L10.3 9.45l-7.72 7.72c-.78.78-.78 2.05 0 2.83L4 21.41c.39.39.9.59 1.41.59.51 0 1.02-.2 1.41-.59l7.78-7.78 2.81-2.81c.8-.78.8-2.07 0-2.86zM5.41 20L4 18.59l7.72-7.72 1.47 1.35L5.41 20z\"/>\n",
              "  </svg>\n",
              "      </button>\n",
              "      \n",
              "  <style>\n",
              "    .colab-df-container {\n",
              "      display:flex;\n",
              "      flex-wrap:wrap;\n",
              "      gap: 12px;\n",
              "    }\n",
              "\n",
              "    .colab-df-convert {\n",
              "      background-color: #E8F0FE;\n",
              "      border: none;\n",
              "      border-radius: 50%;\n",
              "      cursor: pointer;\n",
              "      display: none;\n",
              "      fill: #1967D2;\n",
              "      height: 32px;\n",
              "      padding: 0 0 0 0;\n",
              "      width: 32px;\n",
              "    }\n",
              "\n",
              "    .colab-df-convert:hover {\n",
              "      background-color: #E2EBFA;\n",
              "      box-shadow: 0px 1px 2px rgba(60, 64, 67, 0.3), 0px 1px 3px 1px rgba(60, 64, 67, 0.15);\n",
              "      fill: #174EA6;\n",
              "    }\n",
              "\n",
              "    [theme=dark] .colab-df-convert {\n",
              "      background-color: #3B4455;\n",
              "      fill: #D2E3FC;\n",
              "    }\n",
              "\n",
              "    [theme=dark] .colab-df-convert:hover {\n",
              "      background-color: #434B5C;\n",
              "      box-shadow: 0px 1px 3px 1px rgba(0, 0, 0, 0.15);\n",
              "      filter: drop-shadow(0px 1px 2px rgba(0, 0, 0, 0.3));\n",
              "      fill: #FFFFFF;\n",
              "    }\n",
              "  </style>\n",
              "\n",
              "      <script>\n",
              "        const buttonEl =\n",
              "          document.querySelector('#df-d6311f0b-332d-4d26-b177-de0e8ea01ad8 button.colab-df-convert');\n",
              "        buttonEl.style.display =\n",
              "          google.colab.kernel.accessAllowed ? 'block' : 'none';\n",
              "\n",
              "        async function convertToInteractive(key) {\n",
              "          const element = document.querySelector('#df-d6311f0b-332d-4d26-b177-de0e8ea01ad8');\n",
              "          const dataTable =\n",
              "            await google.colab.kernel.invokeFunction('convertToInteractive',\n",
              "                                                     [key], {});\n",
              "          if (!dataTable) return;\n",
              "\n",
              "          const docLinkHtml = 'Like what you see? Visit the ' +\n",
              "            '<a target=\"_blank\" href=https://colab.research.google.com/notebooks/data_table.ipynb>data table notebook</a>'\n",
              "            + ' to learn more about interactive tables.';\n",
              "          element.innerHTML = '';\n",
              "          dataTable['output_type'] = 'display_data';\n",
              "          await google.colab.output.renderOutput(dataTable, element);\n",
              "          const docLink = document.createElement('div');\n",
              "          docLink.innerHTML = docLinkHtml;\n",
              "          element.appendChild(docLink);\n",
              "        }\n",
              "      </script>\n",
              "    </div>\n",
              "  </div>\n",
              "  "
            ]
          },
          "metadata": {},
          "execution_count": 2
        }
      ]
    },
    {
      "cell_type": "code",
      "source": [
        "sns.histplot(df['Current Price'],bins=12)"
      ],
      "metadata": {
        "colab": {
          "base_uri": "https://localhost:8080/",
          "height": 467
        },
        "id": "SQirk2Y5Lzlb",
        "outputId": "e996e7fc-ce20-4037-ed31-b741d057c9fd"
      },
      "execution_count": null,
      "outputs": [
        {
          "output_type": "execute_result",
          "data": {
            "text/plain": [
              "<Axes: xlabel='Current Price', ylabel='Count'>"
            ]
          },
          "metadata": {},
          "execution_count": 5
        },
        {
          "output_type": "display_data",
          "data": {
            "text/plain": [
              "<Figure size 640x480 with 1 Axes>"
            ],
            "image/png": "[encoded data removed]"
          },
          "metadata": {}
        }
      ]
    },
    {
      "cell_type": "code",
      "source": [
        "sns.histplot(df['Purchase Price'],bins=12)"
      ],
      "metadata": {
        "colab": {
          "base_uri": "https://localhost:8080/",
          "height": 467
        },
        "id": "azo6fyx7MPno",
        "outputId": "fd547d4b-5498-4965-bfb4-af9553fee7c0"
      },
      "execution_count": null,
      "outputs": [
        {
          "output_type": "execute_result",
          "data": {
            "text/plain": [
              "<Axes: xlabel='Purchase Price', ylabel='Count'>"
            ]
          },
          "metadata": {},
          "execution_count": 9
        },
        {
          "output_type": "display_data",
          "data": {
            "text/plain": [
              "<Figure size 640x480 with 1 Axes>"
            ],
            "image/png": "[encoded data removed]"
          },
          "metadata": {}
        }
      ]
    },
    {
      "cell_type": "code",
      "source": [
        "sns.histplot(df['Gain/Loss'],bins=12)"
      ],
      "metadata": {
        "colab": {
          "base_uri": "https://localhost:8080/",
          "height": 467
        },
        "id": "8o4RNAcwMeX2",
        "outputId": "d910f8b8-c478-4588-a491-e6dfd10126b2"
      },
      "execution_count": null,
      "outputs": [
        {
          "output_type": "execute_result",
          "data": {
            "text/plain": [
              "<Axes: xlabel='Gain/Loss', ylabel='Count'>"
            ]
          },
          "metadata": {},
          "execution_count": 10
        },
        {
          "output_type": "display_data",
          "data": {
            "text/plain": [
              "<Figure size 640x480 with 1 Axes>"
            ],
            "image/png": "[encoded data removed]"
          },
          "metadata": {}
        }
      ]
    },
    {
      "cell_type": "markdown",
      "source": [
        "Atribut Stock Name dan Symbol yang memiliki Annual Yield 7 tertinggi\n"
      ],
      "metadata": {
        "id": "VFDpeg_eMoyU"
      }
    },
    {
      "cell_type": "code",
      "source": [
        "sorted_df = df.sort_values('Annual Yield', ascending=False)\n",
        "top_5_dividends = sorted_df.head(7)\n",
        "print(top_5_dividends[['Stock Name', 'Symbol']])\n"
      ],
      "metadata": {
        "colab": {
          "base_uri": "https://localhost:8080/"
        },
        "id": "DLEt3hf5Mtd2",
        "outputId": "a3b15eb6-6760-4903-ae3c-daf5d867e718"
      },
      "execution_count": 13,
      "outputs": [
        {
          "output_type": "stream",
          "name": "stdout",
          "text": [
            "                   Stock Name Symbol\n",
            "8                    Qualcomm   QCOM\n",
            "7                       Cisco   CSCO\n",
            "6                       Intel   INTC\n",
            "1                   Microsoft   MSFT\n",
            "0                       Apple   AAPL\n",
            "4  Hewlett Packard Enterprise    HPE\n",
            "3                      Oracle   ORCL\n"
          ]
        }
      ]
    },
    {
      "cell_type": "markdown",
      "source": [
        "Atribut Stock Name dan Symbol yang memiliki Dividen / Share 5 tertinggi"
      ],
      "metadata": {
        "id": "pRtI20-ZuiI7"
      }
    },
    {
      "cell_type": "code",
      "source": [
        "sorted_df = df.sort_values('Dividend/share', ascending=False)\n",
        "top_5_dividends = sorted_df.head(5)\n",
        "print(top_5_dividends[['Stock Name', 'Symbol']])"
      ],
      "metadata": {
        "id": "1JoMJ_UzJo8E",
        "colab": {
          "base_uri": "https://localhost:8080/"
        },
        "outputId": "9fb7eaf9-5697-496d-e84d-9500e227ac93"
      },
      "execution_count": 12,
      "outputs": [
        {
          "output_type": "stream",
          "name": "stdout",
          "text": [
            "  Stock Name Symbol\n",
            "0      Apple   AAPL\n",
            "8   Qualcomm   QCOM\n",
            "1  Microsoft   MSFT\n",
            "7      Cisco   CSCO\n",
            "6      Intel   INTC\n"
          ]
        }
      ]
    },
    {
      "cell_type": "markdown",
      "source": [
        "Atribut Stock Name dan Symbol yang memiliki Market Value 5 tertinggi"
      ],
      "metadata": {
        "id": "mI9SKD70jHUC"
      }
    },
    {
      "cell_type": "code",
      "source": [
        "sorted_df = df.sort_values('Market Value', ascending=False)\n",
        "top_5_dividends = sorted_df.head(5)\n",
        "print(top_5_dividends[['Stock Name', 'Symbol']])"
      ],
      "metadata": {
        "colab": {
          "base_uri": "https://localhost:8080/"
        },
        "id": "Qwbw4yJ9jNsP",
        "outputId": "89f71957-10f0-4289-fb7f-e5945562fa40"
      },
      "execution_count": 6,
      "outputs": [
        {
          "output_type": "stream",
          "name": "stdout",
          "text": [
            "                    Stock Name Symbol\n",
            "5                     Alphabet   GOOG\n",
            "10                      Redhat    RHT\n",
            "4   Hewlett Packard Enterprise    HPE\n",
            "7                        Cisco   CSCO\n",
            "12                     Twitter   TWTR\n"
          ]
        }
      ]
    }
  ]
}